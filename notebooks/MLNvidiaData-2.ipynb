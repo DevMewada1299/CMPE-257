{
 "cells": [
  {
   "cell_type": "code",
   "execution_count": 82,
   "id": "aee0a699-0573-42c7-975d-a0ec504e2675",
   "metadata": {},
   "outputs": [],
   "source": [
    "import pandas as pd\n",
    "import numpy as np\n",
    "import torch.nn as nn\n",
    "import matplotlib.pyplot as plt\n",
    "import yfinance as yf\n",
    "import matplotlib.pyplot as plt\n",
    "import torch.nn\n",
    "from sklearn.preprocessing import MinMaxScaler"
   ]
  },
  {
   "cell_type": "code",
   "execution_count": 83,
   "id": "3f71a8ac-4352-407e-9c98-a32411874954",
   "metadata": {},
   "outputs": [
    {
     "name": "stderr",
     "output_type": "stream",
     "text": [
      "[*********************100%***********************]  1 of 1 completed\n"
     ]
    }
   ],
   "source": [
    "df = yf.download('NVDA', start='2024-01-01', end='2024-12-01')"
   ]
  },
  {
   "cell_type": "code",
   "execution_count": 84,
   "id": "38aa1cbb-6093-421e-9efb-0cfa69542fe1",
   "metadata": {},
   "outputs": [
    {
     "data": {
      "text/html": [
       "<div>\n",
       "<style scoped>\n",
       "    .dataframe tbody tr th:only-of-type {\n",
       "        vertical-align: middle;\n",
       "    }\n",
       "\n",
       "    .dataframe tbody tr th {\n",
       "        vertical-align: top;\n",
       "    }\n",
       "\n",
       "    .dataframe thead tr th {\n",
       "        text-align: left;\n",
       "    }\n",
       "\n",
       "    .dataframe thead tr:last-of-type th {\n",
       "        text-align: right;\n",
       "    }\n",
       "</style>\n",
       "<table border=\"1\" class=\"dataframe\">\n",
       "  <thead>\n",
       "    <tr>\n",
       "      <th>Price</th>\n",
       "      <th>Adj Close</th>\n",
       "      <th>Close</th>\n",
       "      <th>High</th>\n",
       "      <th>Low</th>\n",
       "      <th>Open</th>\n",
       "      <th>Volume</th>\n",
       "    </tr>\n",
       "    <tr>\n",
       "      <th>Ticker</th>\n",
       "      <th>NVDA</th>\n",
       "      <th>NVDA</th>\n",
       "      <th>NVDA</th>\n",
       "      <th>NVDA</th>\n",
       "      <th>NVDA</th>\n",
       "      <th>NVDA</th>\n",
       "    </tr>\n",
       "    <tr>\n",
       "      <th>Date</th>\n",
       "      <th></th>\n",
       "      <th></th>\n",
       "      <th></th>\n",
       "      <th></th>\n",
       "      <th></th>\n",
       "      <th></th>\n",
       "    </tr>\n",
       "  </thead>\n",
       "  <tbody>\n",
       "    <tr>\n",
       "      <th>2024-01-02</th>\n",
       "      <td>48.154346</td>\n",
       "      <td>48.167999</td>\n",
       "      <td>49.294998</td>\n",
       "      <td>47.595001</td>\n",
       "      <td>49.243999</td>\n",
       "      <td>411254000</td>\n",
       "    </tr>\n",
       "    <tr>\n",
       "      <th>2024-01-03</th>\n",
       "      <td>47.555515</td>\n",
       "      <td>47.569000</td>\n",
       "      <td>48.183998</td>\n",
       "      <td>47.320000</td>\n",
       "      <td>47.485001</td>\n",
       "      <td>320896000</td>\n",
       "    </tr>\n",
       "    <tr>\n",
       "      <th>2024-01-04</th>\n",
       "      <td>47.984398</td>\n",
       "      <td>47.998001</td>\n",
       "      <td>48.500000</td>\n",
       "      <td>47.507999</td>\n",
       "      <td>47.766998</td>\n",
       "      <td>306535000</td>\n",
       "    </tr>\n",
       "    <tr>\n",
       "      <th>2024-01-05</th>\n",
       "      <td>49.083080</td>\n",
       "      <td>49.097000</td>\n",
       "      <td>49.547001</td>\n",
       "      <td>48.306000</td>\n",
       "      <td>48.462002</td>\n",
       "      <td>415039000</td>\n",
       "    </tr>\n",
       "    <tr>\n",
       "      <th>2024-01-08</th>\n",
       "      <td>52.238186</td>\n",
       "      <td>52.252998</td>\n",
       "      <td>52.275002</td>\n",
       "      <td>49.479000</td>\n",
       "      <td>49.512001</td>\n",
       "      <td>642510000</td>\n",
       "    </tr>\n",
       "    <tr>\n",
       "      <th>...</th>\n",
       "      <td>...</td>\n",
       "      <td>...</td>\n",
       "      <td>...</td>\n",
       "      <td>...</td>\n",
       "      <td>...</td>\n",
       "      <td>...</td>\n",
       "    </tr>\n",
       "    <tr>\n",
       "      <th>2024-11-22</th>\n",
       "      <td>141.940216</td>\n",
       "      <td>141.949997</td>\n",
       "      <td>147.160004</td>\n",
       "      <td>141.100006</td>\n",
       "      <td>145.929993</td>\n",
       "      <td>236406200</td>\n",
       "    </tr>\n",
       "    <tr>\n",
       "      <th>2024-11-25</th>\n",
       "      <td>136.010635</td>\n",
       "      <td>136.020004</td>\n",
       "      <td>142.050003</td>\n",
       "      <td>135.820007</td>\n",
       "      <td>141.990005</td>\n",
       "      <td>344941900</td>\n",
       "    </tr>\n",
       "    <tr>\n",
       "      <th>2024-11-26</th>\n",
       "      <td>136.910568</td>\n",
       "      <td>136.919998</td>\n",
       "      <td>139.300003</td>\n",
       "      <td>135.669998</td>\n",
       "      <td>137.699997</td>\n",
       "      <td>190287700</td>\n",
       "    </tr>\n",
       "    <tr>\n",
       "      <th>2024-11-27</th>\n",
       "      <td>135.330673</td>\n",
       "      <td>135.339996</td>\n",
       "      <td>137.220001</td>\n",
       "      <td>131.800003</td>\n",
       "      <td>135.009995</td>\n",
       "      <td>226370900</td>\n",
       "    </tr>\n",
       "    <tr>\n",
       "      <th>2024-11-29</th>\n",
       "      <td>138.240479</td>\n",
       "      <td>138.250000</td>\n",
       "      <td>139.350006</td>\n",
       "      <td>136.050003</td>\n",
       "      <td>136.779999</td>\n",
       "      <td>141863200</td>\n",
       "    </tr>\n",
       "  </tbody>\n",
       "</table>\n",
       "<p>231 rows × 6 columns</p>\n",
       "</div>"
      ],
      "text/plain": [
       "Price        Adj Close       Close        High         Low        Open  \\\n",
       "Ticker            NVDA        NVDA        NVDA        NVDA        NVDA   \n",
       "Date                                                                     \n",
       "2024-01-02   48.154346   48.167999   49.294998   47.595001   49.243999   \n",
       "2024-01-03   47.555515   47.569000   48.183998   47.320000   47.485001   \n",
       "2024-01-04   47.984398   47.998001   48.500000   47.507999   47.766998   \n",
       "2024-01-05   49.083080   49.097000   49.547001   48.306000   48.462002   \n",
       "2024-01-08   52.238186   52.252998   52.275002   49.479000   49.512001   \n",
       "...                ...         ...         ...         ...         ...   \n",
       "2024-11-22  141.940216  141.949997  147.160004  141.100006  145.929993   \n",
       "2024-11-25  136.010635  136.020004  142.050003  135.820007  141.990005   \n",
       "2024-11-26  136.910568  136.919998  139.300003  135.669998  137.699997   \n",
       "2024-11-27  135.330673  135.339996  137.220001  131.800003  135.009995   \n",
       "2024-11-29  138.240479  138.250000  139.350006  136.050003  136.779999   \n",
       "\n",
       "Price          Volume  \n",
       "Ticker           NVDA  \n",
       "Date                   \n",
       "2024-01-02  411254000  \n",
       "2024-01-03  320896000  \n",
       "2024-01-04  306535000  \n",
       "2024-01-05  415039000  \n",
       "2024-01-08  642510000  \n",
       "...               ...  \n",
       "2024-11-22  236406200  \n",
       "2024-11-25  344941900  \n",
       "2024-11-26  190287700  \n",
       "2024-11-27  226370900  \n",
       "2024-11-29  141863200  \n",
       "\n",
       "[231 rows x 6 columns]"
      ]
     },
     "execution_count": 84,
     "metadata": {},
     "output_type": "execute_result"
    }
   ],
   "source": [
    "df"
   ]
  },
  {
   "cell_type": "code",
   "execution_count": 85,
   "id": "06088c38-0e89-4d38-bd38-979b9f59c975",
   "metadata": {},
   "outputs": [],
   "source": [
    "class Model(nn.Module):\n",
    "    def __init__(self):\n",
    "        super(Model, self).__init__()\n",
    "        \n",
    "        # First LSTM layer with Dropout\n",
    "        self.lstm1 = nn.LSTM(input_size=5, hidden_size=128, batch_first=True)\n",
    "        self.dropout1 = nn.Dropout(p=0.2)\n",
    "        \n",
    "        # Second LSTM layer with Dropout\n",
    "        self.lstm2 = nn.LSTM(input_size=128, hidden_size=128, batch_first=True)\n",
    "        self.dropout2 = nn.Dropout(p=0.3)\n",
    "        \n",
    "        # Third LSTM layer with Dropout\n",
    "        self.lstm3 = nn.LSTM(input_size=128, hidden_size=256, batch_first=True)\n",
    "        self.dropout3 = nn.Dropout(p=0.4)\n",
    "        \n",
    "        # Fourth LSTM layer with Dropout\n",
    "        self.lstm4 = nn.LSTM(input_size=256, hidden_size=256, batch_first=True)\n",
    "        self.dropout4 = nn.Dropout(p=0.5)\n",
    "        \n",
    "        # Fully connected output layer\n",
    "        self.fc = nn.Linear(in_features=256, out_features=1)\n",
    "\n",
    "    def forward(self, x):\n",
    "        # Pass through first LSTM layer and apply dropout\n",
    "        x, _ = self.lstm1(x)\n",
    "        x = self.dropout1(x)\n",
    "        \n",
    "        # Pass through second LSTM layer and apply dropout\n",
    "        x, _ = self.lstm2(x)\n",
    "        x = self.dropout2(x)\n",
    "        \n",
    "        # Pass through third LSTM layer and apply dropout\n",
    "        x, _ = self.lstm3(x)\n",
    "        x = self.dropout3(x)\n",
    "        \n",
    "        # Pass through fourth LSTM layer and apply dropout\n",
    "        x, _ = self.lstm4(x)\n",
    "        x = self.dropout4(x)\n",
    "        \n",
    "        # Take the output of the last time step and pass it through the fully connected layer\n",
    "        x = self.fc(x[:, -1, :])\n",
    "\n",
    "        return x"
   ]
  },
  {
   "cell_type": "code",
   "execution_count": 86,
   "id": "d34f9e59-4f0f-48f4-926b-301831967f06",
   "metadata": {},
   "outputs": [
    {
     "name": "stdout",
     "output_type": "stream",
     "text": [
      "Model(\n",
      "  (lstm1): LSTM(5, 128, batch_first=True)\n",
      "  (dropout1): Dropout(p=0.2, inplace=False)\n",
      "  (lstm2): LSTM(128, 128, batch_first=True)\n",
      "  (dropout2): Dropout(p=0.3, inplace=False)\n",
      "  (lstm3): LSTM(128, 256, batch_first=True)\n",
      "  (dropout3): Dropout(p=0.4, inplace=False)\n",
      "  (lstm4): LSTM(256, 256, batch_first=True)\n",
      "  (dropout4): Dropout(p=0.5, inplace=False)\n",
      "  (fc): Linear(in_features=256, out_features=1, bias=True)\n",
      ")\n"
     ]
    }
   ],
   "source": [
    "model = Model()\n",
    "print(model)"
   ]
  },
  {
   "cell_type": "code",
   "execution_count": 87,
   "id": "35f959f4-a154-4ec8-bb7a-609e7e89432d",
   "metadata": {},
   "outputs": [],
   "source": [
    "scalers = {\n",
    "    'Adj Close': MinMaxScaler(),\n",
    "    'Close': MinMaxScaler(),\n",
    "    'Low': MinMaxScaler(),\n",
    "    'High': MinMaxScaler(),\n",
    "    'Open': MinMaxScaler(),\n",
    "    'Volume' : MinMaxScaler()\n",
    "}\n",
    "\n",
    "df['Adj Close'] = scalers['Adj Close'].fit_transform(df[['Adj Close']])\n",
    "df['Close'] = scalers['Close'].fit_transform(df[['Close']])\n",
    "df['Low'] = scalers['Low'].fit_transform(df[['Low']])\n",
    "df['High'] = scalers['High'].fit_transform(df[['High']])\n",
    "df['Open'] = scalers['Open'].fit_transform(df[['Open']])\n",
    "df['Volume'] = scalers['Volume'].fit_transform(df[['Volume']])"
   ]
  },
  {
   "cell_type": "code",
   "execution_count": 88,
   "id": "a98cc538-bc15-44ac-9866-004c72d516d9",
   "metadata": {},
   "outputs": [],
   "source": [
    "df = df.drop(columns=['Adj Close'])"
   ]
  },
  {
   "cell_type": "code",
   "execution_count": 89,
   "id": "e3156663-9d53-4497-a35f-5faaa9c8de49",
   "metadata": {},
   "outputs": [],
   "source": [
    "df_data = df.values"
   ]
  },
  {
   "cell_type": "code",
   "execution_count": 90,
   "id": "43fc8c12-3a19-4827-bdef-f9a17a884dca",
   "metadata": {},
   "outputs": [],
   "source": [
    "\n",
    "\n",
    "# Convert data into sequences\n",
    "def create_sequences(data_array, sequence_length):\n",
    "    X = []\n",
    "    y = []\n",
    "    for i in range(len(data_array) - sequence_length):\n",
    "        # Extract sequence of features\n",
    "        X.append(data_array[i:i + sequence_length])\n",
    "        # Target is the closing price at the next timestep\n",
    "        y.append(data_array[i + sequence_length][0])  \n",
    "    return np.array(X), np.array(y)\n",
    "\n",
    "sequence_length = 5\n",
    "\n",
    "X_sequences, y_targets = create_sequences(df_data, sequence_length)"
   ]
  },
  {
   "cell_type": "code",
   "execution_count": 91,
   "id": "1ff14966-0549-4a21-89d1-5207c0557b00",
   "metadata": {},
   "outputs": [],
   "source": [
    "from sklearn.model_selection import train_test_split\n",
    "\n",
    "X_train, X_test, y_train, y_test = train_test_split(X_sequences, y_targets, train_size=0.8, shuffle=False)"
   ]
  },
  {
   "cell_type": "code",
   "execution_count": 92,
   "id": "28f56e9c-8df5-4fd7-9793-9ac90ba8e6d0",
   "metadata": {},
   "outputs": [],
   "source": [
    "X_sequences.shape, y_targets.shape\n",
    "X_tensor_train = torch.tensor(X_train, dtype=torch.float32)\n",
    "y_tensor_train = torch.tensor(y_train, dtype=torch.float32)\n",
    "X_tensor_test = torch.tensor(X_test, dtype=torch.float32)\n",
    "y_tensor_test = torch.tensor(y_test, dtype=torch.float32)"
   ]
  },
  {
   "cell_type": "code",
   "execution_count": 93,
   "id": "aa0ef070-7442-4ab5-8a5a-7f8b63f0bea3",
   "metadata": {},
   "outputs": [],
   "source": [
    "from torch.utils.data import DataLoader, TensorDataset\n",
    "dataset_train = TensorDataset(X_tensor_train, y_tensor_train)\n",
    "dataloader_train = DataLoader(dataset_train, batch_size=32, shuffle=True)"
   ]
  },
  {
   "cell_type": "code",
   "execution_count": 94,
   "id": "b17f0261-6057-499d-97ef-1f70f5868aef",
   "metadata": {},
   "outputs": [],
   "source": [
    "criterion = nn.MSELoss()  # Mean Squared Error for regression tasks\n",
    "optimizer = torch.optim.Adam(model.parameters(), lr=0.001)"
   ]
  },
  {
   "cell_type": "code",
   "execution_count": 95,
   "id": "c9c7dac3-0e90-4073-af70-c2ffbbf54ddf",
   "metadata": {},
   "outputs": [
    {
     "name": "stdout",
     "output_type": "stream",
     "text": [
      "Epoch 1/50, Loss: 0.5321\n",
      "Epoch 2/50, Loss: 0.1809\n",
      "Epoch 3/50, Loss: 0.0796\n",
      "Epoch 4/50, Loss: 0.0533\n",
      "Epoch 5/50, Loss: 0.0467\n",
      "Epoch 6/50, Loss: 0.0230\n",
      "Epoch 7/50, Loss: 0.0278\n",
      "Epoch 8/50, Loss: 0.0222\n",
      "Epoch 9/50, Loss: 0.0128\n",
      "Epoch 10/50, Loss: 0.0096\n",
      "Epoch 11/50, Loss: 0.0091\n",
      "Epoch 12/50, Loss: 0.0095\n",
      "Epoch 13/50, Loss: 0.0074\n",
      "Epoch 14/50, Loss: 0.0075\n",
      "Epoch 15/50, Loss: 0.0078\n",
      "Epoch 16/50, Loss: 0.0062\n",
      "Epoch 17/50, Loss: 0.0069\n",
      "Epoch 18/50, Loss: 0.0065\n",
      "Epoch 19/50, Loss: 0.0066\n",
      "Epoch 20/50, Loss: 0.0086\n",
      "Epoch 21/50, Loss: 0.0056\n",
      "Epoch 22/50, Loss: 0.0061\n",
      "Epoch 23/50, Loss: 0.0083\n",
      "Epoch 24/50, Loss: 0.0059\n",
      "Epoch 25/50, Loss: 0.0058\n",
      "Epoch 26/50, Loss: 0.0065\n",
      "Epoch 27/50, Loss: 0.0058\n",
      "Epoch 28/50, Loss: 0.0059\n",
      "Epoch 29/50, Loss: 0.0050\n",
      "Epoch 30/50, Loss: 0.0060\n",
      "Epoch 31/50, Loss: 0.0052\n",
      "Epoch 32/50, Loss: 0.0066\n",
      "Epoch 33/50, Loss: 0.0055\n",
      "Epoch 34/50, Loss: 0.0070\n",
      "Epoch 35/50, Loss: 0.0048\n",
      "Epoch 36/50, Loss: 0.0052\n",
      "Epoch 37/50, Loss: 0.0066\n",
      "Epoch 38/50, Loss: 0.0062\n",
      "Epoch 39/50, Loss: 0.0068\n",
      "Epoch 40/50, Loss: 0.0068\n",
      "Epoch 41/50, Loss: 0.0048\n",
      "Epoch 42/50, Loss: 0.0048\n",
      "Epoch 43/50, Loss: 0.0057\n",
      "Epoch 44/50, Loss: 0.0044\n",
      "Epoch 45/50, Loss: 0.0050\n",
      "Epoch 46/50, Loss: 0.0047\n",
      "Epoch 47/50, Loss: 0.0065\n",
      "Epoch 48/50, Loss: 0.0058\n",
      "Epoch 49/50, Loss: 0.0046\n",
      "Epoch 50/50, Loss: 0.0043\n"
     ]
    }
   ],
   "source": [
    "num_epochs = 50\n",
    "for epoch in range(num_epochs):\n",
    "    model.train()  # Set the model to training mode\n",
    "    epoch_loss = 0.0\n",
    "    \n",
    "    for X_batch, y_batch in dataloader_train:\n",
    "        optimizer.zero_grad()  # Clear gradients from the previous step\n",
    "        \n",
    "        y_pred = model(X_batch)  # Forward pass\n",
    "        \n",
    "        loss = criterion(y_pred.squeeze(), y_batch)  # Compute loss\n",
    "        loss.backward()  # Backpropagation\n",
    "        \n",
    "        optimizer.step()  # Update weights\n",
    "        \n",
    "        epoch_loss += loss.item() * X_batch.size(0)  # Accumulate loss\n",
    "    \n",
    "    epoch_loss /= len(dataloader_train.dataset)  # Average loss over all samples\n",
    "    \n",
    "    print(f\"Epoch {epoch+1}/{num_epochs}, Loss: {epoch_loss:.4f}\")"
   ]
  },
  {
   "cell_type": "code",
   "execution_count": 96,
   "id": "d85c0922-d17c-40fe-bdd4-81309f0643b8",
   "metadata": {},
   "outputs": [],
   "source": [
    "dataset_test = TensorDataset(X_tensor_test, y_tensor_test)\n",
    "dataloader_test = DataLoader(dataset_test, batch_size=32, shuffle=False)\n",
    "\n",
    "model.eval()  # Set model to evaluation mode\n",
    "test_loss = 0.0\n",
    "with torch.no_grad():\n",
    "    for X_batch, y_batch in dataloader_test:\n",
    "        y_pred = model(X_batch)\n",
    "        loss = criterion(y_pred.squeeze(), y_batch)\n",
    "        test_loss += loss.item() * X_batch.size(0)"
   ]
  },
  {
   "cell_type": "code",
   "execution_count": 97,
   "id": "2cc835f9-0908-412f-bee2-d00272b56506",
   "metadata": {},
   "outputs": [
    {
     "name": "stdout",
     "output_type": "stream",
     "text": [
      "Test Loss: 0.0022\n"
     ]
    }
   ],
   "source": [
    "test_loss /= len(dataloader_test.dataset)  # Average test loss\n",
    "\n",
    "print(f\"Test Loss: {test_loss:.4f}\")"
   ]
  },
  {
   "cell_type": "code",
   "execution_count": 98,
   "id": "32d58cc6-4bdd-438f-b098-7d01fd76f7fd",
   "metadata": {},
   "outputs": [
    {
     "name": "stdout",
     "output_type": "stream",
     "text": [
      "Test MSE: 0.0022, Test MAE: 0.0374\n"
     ]
    }
   ],
   "source": [
    "from sklearn.metrics import mean_squared_error, mean_absolute_error\n",
    "\n",
    "# Predictions on test set\n",
    "y_pred_list = []\n",
    "y_true_list = []\n",
    "model.eval()\n",
    "with torch.no_grad():\n",
    "    for X_batch, y_batch in dataloader_test:\n",
    "        y_pred_list.append(model(X_batch).squeeze().numpy())\n",
    "        y_true_list.append(y_batch.numpy())\n",
    "\n",
    "y_pred_list = np.concatenate(y_pred_list)\n",
    "y_true_list = np.concatenate(y_true_list)\n",
    "\n",
    "mse = mean_squared_error(y_true_list, y_pred_list)\n",
    "mae = mean_absolute_error(y_true_list, y_pred_list)\n",
    "\n",
    "print(f\"Test MSE: {mse:.4f}, Test MAE: {mae:.4f}\")\n"
   ]
  },
  {
   "cell_type": "code",
   "execution_count": 99,
   "id": "06c79936-cd19-4207-b089-711765b54b73",
   "metadata": {},
   "outputs": [
    {
     "data": {
      "text/plain": [
       "[<matplotlib.lines.Line2D at 0x32a882ca0>]"
      ]
     },
     "execution_count": 99,
     "metadata": {},
     "output_type": "execute_result"
    },
    {
     "data": {
      "image/png": "[encoded data removed]",
      "text/plain": [
       "<Figure size 640x480 with 1 Axes>"
      ]
     },
     "metadata": {},
     "output_type": "display_data"
    }
   ],
   "source": [
    "plt.plot(scalers['Close'].inverse_transform(y_pred_list[:].reshape(-1,1)))\n",
    "plt.plot(scalers['Close'].inverse_transform(y_true_list[:].reshape(-1,1)))"
   ]
  },
  {
   "cell_type": "code",
   "execution_count": 101,
   "id": "117985c6-232e-4be0-99d2-2c7fd0e582ea",
   "metadata": {},
   "outputs": [],
   "source": [
    "residuals = scalers['Close'].inverse_transform(y_true_list[:].reshape(-1,1)) - scalers['Close'].inverse_transform(y_pred_list[:].reshape(-1,1))"
   ]
  },
  {
   "cell_type": "code",
   "execution_count": 103,
   "id": "bcca8d06-3e7b-4bdc-a11f-04c16ef79919",
   "metadata": {},
   "outputs": [],
   "source": [
    "def forecast_future(model, last_sequence, num_predictions, scaler):\n",
    "    predictions = []\n",
    "    current_sequence = last_sequence.copy()\n",
    "\n",
    "    for _ in range(num_predictions):\n",
    "        model.eval()\n",
    "        next_value = model(torch.tensor(current_sequence, dtype=torch.float32)).detach().numpy()\n",
    "        \n",
    "        # Inverse transform to get original scale\n",
    "        next_value_original = scalers[\"Close\"].inverse_transform(next_value[0].reshape(-1,1))\n",
    "        predictions.append(next_value_original[0][0])  # Assuming single output\n",
    "        \n",
    "        # Update the sequence: remove oldest value, append predicted value\n",
    "        next_value_scaled = scalers[\"Close\"].transform(next_value)  # Scale predicted value\n",
    "        current_sequence = np.append(current_sequence[:, -1, :], [[next_value_scaled]], axis=1)\n",
    "\n",
    "    return predictions"
   ]
  },
  {
   "cell_type": "code",
   "execution_count": 104,
   "id": "507e6194-057a-4266-ba45-0589b745c372",
   "metadata": {},
   "outputs": [
    {
     "name": "stdout",
     "output_type": "stream",
     "text": [
      "Future Predictions: tensor([0.8688, 0.7160, 0.4899, 0.3585, 0.2804])\n"
     ]
    }
   ],
   "source": [
    "# Start with the last sequence in the dataset\n",
    "current_input = X_tensor_test[-1].unsqueeze(0)  # Shape: (1, timesteps, features)\n",
    "\n",
    "# To store predictions\n",
    "future_predictions = []\n",
    "\n",
    "model.eval()\n",
    "with torch.no_grad():\n",
    "    for _ in range(5):\n",
    "        # Predict the next value\n",
    "        next_pred = model(current_input)  # Shape: (1, 1)\n",
    "\n",
    "        # Store the prediction\n",
    "        future_predictions.append(next_pred.item())\n",
    "\n",
    "        # Update the input sequence\n",
    "        next_input = current_input[:, 1:, :]  # Remove the first timestep (shift the window)\n",
    "        next_input = torch.cat((next_input, torch.zeros(1, 1, current_input.size(2))), dim=1)  # Add placeholder for the new timestep\n",
    "\n",
    "        # Insert the predicted value into the second column (target feature)\n",
    "        next_input[:, -1, 1] = next_pred.squeeze(1)  # Replace column index 1 with prediction\n",
    "\n",
    "        current_input = next_input\n",
    "\n",
    "# Convert predictions to a tensor\n",
    "future_predictions = torch.tensor(future_predictions)\n",
    "print(\"Future Predictions:\", future_predictions)"
   ]
  },
  {
   "cell_type": "code",
   "execution_count": 107,
   "id": "d3eaea2f-9a4d-4f7f-859e-a177ff43f286",
   "metadata": {},
   "outputs": [],
   "source": []
  },
  {
   "cell_type": "code",
   "execution_count": 108,
   "id": "d37d366d-f330-43f6-8e10-71f3bd49efbf",
   "metadata": {},
   "outputs": [],
   "source": [
    "final_forecast = scalers['Close'].inverse_transform(y_pred_list.reshape(-1,1)) + forecast.reshape(-1)"
   ]
  },
  {
   "cell_type": "code",
   "execution_count": 109,
   "id": "9203166b-86ac-4bd3-ae92-9c34521c3027",
   "metadata": {},
   "outputs": [
    {
     "data": {
      "text/plain": [
       "[<matplotlib.lines.Line2D at 0x32b511820>]"
      ]
     },
     "execution_count": 109,
     "metadata": {},
     "output_type": "execute_result"
    },
    {
     "data": {
      "image/png": "[encoded data removed]",
      "text/plain": [
       "<Figure size 640x480 with 1 Axes>"
      ]
     },
     "metadata": {},
     "output_type": "display_data"
    }
   ],
   "source": [
    "plt.plot(final_forecast.reshape(-1,1))"
   ]
  },
  {
   "cell_type": "code",
   "execution_count": 110,
   "id": "2295ceb8-9b73-4320-9ae1-1cd997da7090",
   "metadata": {},
   "outputs": [
    {
     "data": {
      "text/plain": [
       "array([128.03786966, 127.61277186, 127.35019361, 127.1880019 ,\n",
       "       127.08781787, 127.02593529, 126.9877111 , 126.96410044,\n",
       "       126.94951639, 126.94050798, 126.93494359, 126.93150652,\n",
       "       126.92938349, 126.92807211, 126.92726209, 126.92676175,\n",
       "       126.92645269, 126.92626179, 126.92614387, 126.92607104,\n",
       "       126.92602605, 126.92599826, 126.92598109, 126.92597049,\n",
       "       126.92596394, 126.92595989, 126.92595739, 126.92595585,\n",
       "       126.9259549 , 126.92595431, 126.92595394, 126.92595372,\n",
       "       126.92595358, 126.92595349, 126.92595344, 126.92595341,\n",
       "       126.92595339, 126.92595338, 126.92595337, 126.92595336,\n",
       "       126.92595336, 126.92595336, 126.92595336, 126.92595336,\n",
       "       126.92595336, 126.92595336])"
      ]
     },
     "execution_count": 110,
     "metadata": {},
     "output_type": "execute_result"
    }
   ],
   "source": [
    "final_forecast[0]"
   ]
  },
  {
   "cell_type": "code",
   "execution_count": 178,
   "id": "ebd89437-7b54-4913-af53-5097deef600e",
   "metadata": {},
   "outputs": [],
   "source": [
    "torch.save(model.state_dict(), \"Desktop/lstm_model.pth\")"
   ]
  },
  {
   "cell_type": "code",
   "execution_count": 179,
   "id": "8fc87451-b547-4846-a90e-32b87da8b948",
   "metadata": {},
   "outputs": [
    {
     "name": "stderr",
     "output_type": "stream",
     "text": [
      "/var/folders/zd/dmj5p6xs4_53hhy5fq5j6kkm0000gn/T/ipykernel_54280/1370512238.py:2: FutureWarning: You are using `torch.load` with `weights_only=False` (the current default value), which uses the default pickle module implicitly. It is possible to construct malicious pickle data which will execute arbitrary code during unpickling (See https://github.com/pytorch/pytorch/blob/main/SECURITY.md#untrusted-models for more details). In a future release, the default value for `weights_only` will be flipped to `True`. This limits the functions that could be executed during unpickling. Arbitrary objects will no longer be allowed to be loaded via this mode unless they are explicitly allowlisted by the user via `torch.serialization.add_safe_globals`. We recommend you start setting `weights_only=True` for any use case where you don't have full control of the loaded file. Please open an issue on GitHub for any issues related to this experimental feature.\n",
      "  model.load_state_dict(torch.load(\"lstm_model.pth\"))\n"
     ]
    }
   ],
   "source": [
    "model = Model()\n",
    "model.load_state_dict(torch.load(\"lstm_model.pth\"))\n",
    "model.eval()\n",
    "outs = model(X_tensor_test[-1].unsqueeze(0) )"
   ]
  },
  {
   "cell_type": "code",
   "execution_count": null,
   "id": "ec4c4510-a338-4110-9d99-1bbf79cc90eb",
   "metadata": {},
   "outputs": [],
   "source": []
  },
  {
   "cell_type": "code",
   "execution_count": null,
   "id": "5a379fb8-343c-42c2-9a9e-c9fa2ad92473",
   "metadata": {},
   "outputs": [],
   "source": []
  },
  {
   "cell_type": "code",
   "execution_count": null,
   "id": "928e8003-59f9-4fa4-a483-1ef36629d04d",
   "metadata": {},
   "outputs": [],
   "source": []
  },
  {
   "cell_type": "code",
   "execution_count": 181,
   "id": "3c82bdf2-334d-40f9-a5b2-48338c90afa3",
   "metadata": {},
   "outputs": [
    {
     "data": {
      "text/plain": [
       "array([[135.58617]], dtype=float32)"
      ]
     },
     "execution_count": 181,
     "metadata": {},
     "output_type": "execute_result"
    }
   ],
   "source": [
    "scalers['Close'].inverse_transform(outs.detach().numpy())"
   ]
  },
  {
   "cell_type": "code",
   "execution_count": 198,
   "id": "5f8c1210-aeeb-43c5-aae5-1a9f7618c64f",
   "metadata": {},
   "outputs": [
    {
     "data": {
      "text/plain": [
       "tensor([[1.0000, 0.9453, 0.8965, 0.8702, 0.8503]])"
      ]
     },
     "execution_count": 198,
     "metadata": {},
     "output_type": "execute_result"
    }
   ],
   "source": [
    "t = X_tensor_test[-1].unsqueeze(0)\n",
    "t[:,:,1]"
   ]
  },
  {
   "cell_type": "code",
   "execution_count": 183,
   "id": "fddf5539-6949-4f2d-8835-b7314a603b70",
   "metadata": {},
   "outputs": [],
   "source": [
    "def future_predictions(X):\n",
    "    current_input = X[-1].unsqueeze(0) \n",
    "    future_predictions = []\n",
    "    \n",
    "    model.eval()\n",
    "    with torch.no_grad():\n",
    "        for _ in range(5):\n",
    "            # Predict the next value\n",
    "            next_pred = model(current_input)  # Shape: (1, 1)\n",
    "    \n",
    "            # Store the prediction\n",
    "            future_predictions.append(next_pred.item())\n",
    "    \n",
    "            # Update the input sequence\n",
    "            next_input = current_input[:, 1:, :]  # Remove the first timestep (shift the window)\n",
    "            next_input = torch.cat((next_input, torch.zeros(1, 1, current_input.size(2))), dim=1)  # Add placeholder for the new timestep\n",
    "    \n",
    "            # Insert the predicted value into the second column (target feature)\n",
    "            next_input[:, -1, 1] = next_pred.squeeze(1)  # Replace column index 1 with prediction\n",
    "    \n",
    "            current_input = next_input\n",
    "\n",
    "    return future_predictions"
   ]
  },
  {
   "cell_type": "code",
   "execution_count": 193,
   "id": "1630cc63-de81-4b02-99f4-2210b50c2a47",
   "metadata": {},
   "outputs": [],
   "source": [
    "of = future_predictions(X_tensor_train)"
   ]
  },
  {
   "cell_type": "code",
   "execution_count": 200,
   "id": "507d11bd-ea88-4320-a510-960bdde9ebe2",
   "metadata": {},
   "outputs": [],
   "source": [
    "residuals = np.array(of) - t[:,:,1].numpy()"
   ]
  },
  {
   "cell_type": "code",
   "execution_count": 194,
   "id": "fee3c719-4ff8-4f30-98f4-a9cde2ed8917",
   "metadata": {},
   "outputs": [
    {
     "data": {
      "text/plain": [
       "array([[123.65065885],\n",
       "       [112.17735492],\n",
       "       [ 93.6783679 ],\n",
       "       [ 80.90602083],\n",
       "       [ 73.076252  ]])"
      ]
     },
     "execution_count": 194,
     "metadata": {},
     "output_type": "execute_result"
    }
   ],
   "source": [
    "scalers['Close'].inverse_transform(np.array(of).reshape(-1,1))"
   ]
  },
  {
   "cell_type": "code",
   "execution_count": null,
   "id": "d01465e9-aa70-4f8e-be11-0fccecda4a5d",
   "metadata": {},
   "outputs": [],
   "source": []
  },
  {
   "cell_type": "code",
   "execution_count": null,
   "id": "98f0e6e6-3f26-43c4-a25c-cb07272362bd",
   "metadata": {},
   "outputs": [],
   "source": []
  }
 ],
 "metadata": {
  "kernelspec": {
   "display_name": "Python venv",
   "language": "python",
   "name": "venv"
  },
  "language_info": {
   "codemirror_mode": {
    "name": "ipython",
    "version": 3
   },
   "file_extension": ".py",
   "mimetype": "text/x-python",
   "name": "python",
   "nbconvert_exporter": "python",
   "pygments_lexer": "ipython3",
   "version": "3.9.20"
  }
 },
 "nbformat": 4,
 "nbformat_minor": 5
}
